{
 "cells": [
  {
   "cell_type": "markdown",
   "metadata": {},
   "source": [
    "Questions,\n",
    "\n",
    "https://www.kaggle.com/c/house-prices-advanced-regression-techniques\n",
    "\n",
    "DataDescription\n",
    "\n",
    "https://www.kaggle.com/c/house-prices-advanced-regression-techniques/data\n",
    "\n",
    "Missing Value and ordinal encoding\n",
    "\n",
    "https://www.kaggle.com/mitramir5/missing-values-ordinal-data-and-stories/notebook"
   ]
  },
  {
   "cell_type": "code",
   "execution_count": 2,
   "metadata": {},
   "outputs": [],
   "source": [
    "import pandas as pd\n",
    "import numpy as np\n",
    "\n",
    "\n",
    "import sklearn\n",
    "import warnings\n",
    "\n",
    "from sklearn.model_selection import train_test_split\n",
    "\n",
    "from sklearn.compose import ColumnTransformer\n",
    "from sklearn.pipeline import Pipeline\n",
    "from sklearn.preprocessing import StandardScaler\n",
    "from sklearn.impute import SimpleImputer\n",
    "from sklearn.preprocessing import OneHotEncoder\n",
    "from sklearn.ensemble import RandomForestRegressor\n",
    "from sklearn.metrics import mean_squared_error\n",
    "# from sklearn.ensemble import GradientBoostingRegressor\n",
    "# from lightgbm import LGBMRegressor\n",
    "# from sklearn.linear_model import Lasso\n",
    "# from catboost import CatBoostRegressor\n",
    "# from xgboost import XGBRegressor"
   ]
  },
  {
   "cell_type": "markdown",
   "metadata": {},
   "source": [
    "# Split the data into test data and train data"
   ]
  },
  {
   "cell_type": "code",
   "execution_count": 5,
   "metadata": {},
   "outputs": [],
   "source": [
    "df_original=pd.read_csv(\"../010_data/train.csv\")"
   ]
  },
  {
   "cell_type": "code",
   "execution_count": 3,
   "metadata": {},
   "outputs": [
    {
     "data": {
      "text/plain": [
       "(1460, 81)"
      ]
     },
     "execution_count": 3,
     "metadata": {},
     "output_type": "execute_result"
    }
   ],
   "source": [
    "df_original.shape"
   ]
  },
  {
   "cell_type": "code",
   "execution_count": 4,
   "metadata": {},
   "outputs": [],
   "source": [
    "temp=pd.qcut(df_original['SalePrice'],[0,0.1,0.2,0.3,0.4,0.5,0.6,0.7,0.8,0.9,1],labels=['0-10','10-20','20-30','30-40','40-50','50-60','60-70','70-80','80-90','90-100'])\n",
    "\n",
    "X_train, X_test, _, _ = train_test_split(temp, temp, test_size=0.2, random_state=42,stratify =temp)\n"
   ]
  },
  {
   "cell_type": "code",
   "execution_count": 5,
   "metadata": {},
   "outputs": [],
   "source": [
    "df_train=df_original.loc[X_train.index].copy()\n",
    "df_test=df_original.loc[X_test.index].copy()\n",
    "\n",
    "del df_original"
   ]
  },
  {
   "cell_type": "code",
   "execution_count": 6,
   "metadata": {},
   "outputs": [],
   "source": [
    "temp=pd.qcut(df_train['SalePrice'],[0,0.1,0.2,0.3,0.4,0.5,0.6,0.7,0.8,0.9,1],labels=['0-10','10-20','20-30','30-40','40-50','50-60','60-70','70-80','80-90','90-100'])\n",
    "\n",
    "X_train, X_test, _, _ = train_test_split(temp, temp, test_size=0.3, random_state=42,stratify =temp)"
   ]
  },
  {
   "cell_type": "code",
   "execution_count": 7,
   "metadata": {},
   "outputs": [],
   "source": [
    "df_dev=df_train.loc[X_test.index].copy()\n",
    "df_train=df_train.loc[X_train.index].copy()\n"
   ]
  },
  {
   "cell_type": "code",
   "execution_count": 8,
   "metadata": {},
   "outputs": [],
   "source": [
    "# df_train.to_csv('../010_data/W207_train.csv',index=False)\n",
    "# df_train.to_csv('../010_data/W207_dev.csv',index=False)\n",
    "# df_test.to_csv('../010_data/W207_test.csv',index=False)"
   ]
  },
  {
   "cell_type": "markdown",
   "metadata": {},
   "source": [
    "# Import the pre-splited data"
   ]
  },
  {
   "cell_type": "code",
   "execution_count": 9,
   "metadata": {},
   "outputs": [],
   "source": [
    "df_train=pd.read_csv('../010_data//W207_train.csv')\n",
    "df_train=pd.read_csv('../010_data//W207_dev.csv')\n",
    "df_test=pd.read_csv('../010_data/W207_test.csv')"
   ]
  },
  {
   "cell_type": "markdown",
   "metadata": {},
   "source": [
    "# EDA\n",
    "\n",
    "including the missing value conformation only us the df_train data please\n",
    "\n",
    "https://www.kaggle.com/dgawlik/house-prices-eda"
   ]
  },
  {
   "cell_type": "code",
   "execution_count": 10,
   "metadata": {},
   "outputs": [
    {
     "data": {
      "text/plain": [
       "PoolQC          0.995104\n",
       "MiscFeature     0.957160\n",
       "Alley           0.938800\n",
       "Fence           0.806610\n",
       "FireplaceQu     0.484700\n",
       "LotFrontage     0.197062\n",
       "GarageType      0.055080\n",
       "GarageCond      0.055080\n",
       "GarageYrBlt     0.055080\n",
       "GarageFinish    0.055080\n",
       "GarageQual      0.055080\n",
       "BsmtExposure    0.030600\n",
       "BsmtFinType1    0.029376\n",
       "BsmtCond        0.029376\n",
       "BsmtQual        0.029376\n",
       "BsmtFinType2    0.029376\n",
       "MasVnrArea      0.007344\n",
       "MasVnrType      0.007344\n",
       "Exterior2nd     0.000000\n",
       "Exterior1st     0.000000\n",
       "dtype: float64"
      ]
     },
     "execution_count": 10,
     "metadata": {},
     "output_type": "execute_result"
    }
   ],
   "source": [
    "(df_train.isnull().sum()/df_train.shape[0]).sort_values(ascending=False)[:20]"
   ]
  },
  {
   "cell_type": "markdown",
   "metadata": {},
   "source": [
    "# Data Cleancing"
   ]
  },
  {
   "cell_type": "markdown",
   "metadata": {},
   "source": [
    "# Miss value handling and Value conversion"
   ]
  },
  {
   "cell_type": "code",
   "execution_count": 11,
   "metadata": {},
   "outputs": [],
   "source": [
    "col_drop=['Id','PoolQC','MiscFeature','Alley','Fence','FireplaceQu','LotFrontage']\n",
    "\n",
    "col_cat=['MSZoning','Street','LandContour','Utilities','LotConfig','LandSlope','Neighborhood',\n",
    "        'Condition1','Condition2', 'BldgType',\n",
    "       'HouseStyle','RoofStyle','RoofMatl','Exterior1st','Exterior2nd','MasVnrType','Foundation','Heating',\n",
    "         'CentralAir','Electrical','GarageType','SaleType','SaleCondition'\n",
    "        ]\n",
    "\n",
    "col_order=['MSSubClass','ExterQual','LotShape','ExterCond',\n",
    "           'BsmtQual','BsmtCond','BsmtExposure','BsmtFinType1','BsmtFinType2',\n",
    "          'HeatingQC','Functional','KitchenQual','GarageQual','GarageFinish','GarageCond','PavedDrive',\n",
    "          ]\n",
    "\n",
    "col_num=['OverallQual', 'OverallCond','LotArea','MasVnrArea','BsmtFinSF1','BsmtFinSF2','BsmtUnfSF','TotalBsmtSF','1stFlrSF', '2ndFlrSF',\n",
    "       'LowQualFinSF', 'GrLivArea', 'BsmtFullBath', 'BsmtHalfBath', 'FullBath',\n",
    "       'HalfBath', 'BedroomAbvGr', 'KitchenAbvGr','TotRmsAbvGrd','Fireplaces','GarageCars','GarageArea','WoodDeckSF', 'OpenPorchSF',\n",
    "       'EnclosedPorch', '3SsnPorch', 'ScreenPorch', 'PoolArea','MiscVal','YearBuilt','YearRemodAdd','MoSold','YrSold','GarageYrBlt']\n",
    "\n",
    "col_target=['SalePrice']\n",
    "\n",
    "# check the integrety\n",
    "# temp=col_cat+col_order+col_num\n",
    "# [i for i in temp if i in col_drop]"
   ]
  },
  {
   "cell_type": "code",
   "execution_count": 12,
   "metadata": {},
   "outputs": [],
   "source": [
    "# categorical data\n",
    "\n",
    "cat_values={\n",
    "    'MSZoning': ['None','A','C','FV','I','RH','RL', 'RP' , 'RM'],\n",
    "    'Street': ['None', 'Pave', 'Grvl'],\n",
    "    'LandContour': ['None', 'Lvl', 'Bnk', 'HLS', 'Low'],\n",
    "    'Utilities': ['None', 'AllPub', 'NoSewr', 'NoSeWa', 'ELO'],\n",
    "    'LotConfig': ['None', 'Inside', 'Corner', 'CulDSac', 'FR2', 'FR3'],\n",
    "    'LandSlope': ['None', 'Gtl', 'Mod', 'Sev'],\n",
    "    'Neighborhood': [\"Blmngtn\",\"Heights\",\"Bluestem\",\"Briardale\",\n",
    "                     \"Brookside\",\"Clear\",\"CollgCr\",\"Crawfor\",\n",
    "                     \"Edwards\",\"Gilbert\",\"IDOTRR\",\"MeadowV\",\"Mitchel\",\"Names\",\n",
    "                     \"NoRidge\",\"NPkVill\",\"NridgHt\",\"NWAmes\",\"SWISU\",\"Sawyer\",\n",
    "                     \"SawyerW\",\"Somerst\",\"StoneBr\",\"Veenker\"\n",
    "                    ],\n",
    "    'Condition1': ['None',  'Artery', 'Feedr',  'Norm',\n",
    "                'RRNn',  'RRAn', 'PosN', 'PosA',\n",
    "                'RRNe',  'RRAe'],\n",
    "    'Condition2':  ['None',  'Artery', 'Feedr',  'Norm',\n",
    "                'RRNn',  'RRAn', 'PosN', 'PosA',\n",
    "                'RRNe',  'RRAe'],\n",
    "    'BldgType': ['None', '1Fam', '2fmCon', 'Duplex', 'TwnhsE', 'TwnhsI'],\n",
    "    'HouseStyle': ['None',  '1Story',  '1.5Fin',  '1.5Unf', '2Story',  '2.5Fin',  '2.5Unf',  'SFoyer',  'SLvl'],\n",
    "    'RoofStyle': ['None', 'Gable', 'Hip', 'Gambrel', 'Mansard', 'Flat', 'Shed'],\n",
    "    'RoofMatl': ['None',  'ClyTile', 'CompShg',  'Membran',  'Metal',  'Roll', 'Tar&Grv',  'WdShake',  'WdShngl'],\n",
    "    'Exterior1st': ['None',  'AsbShng',  'AsphShn',  'BrkComm',  'BrkFace',  'CBlock',  'CemntBd',  \n",
    "                    'ImStucc', 'MetalSd',  'Other',  'Plywood',  'PreCast',  'Stone',  'Stucco',  \n",
    "                    'Wd Sdng',  'WdShing'],\n",
    "    'Exterior2nd': ['None',  'AsbShng',  'AsphShn',  'BrkComm',  'BrkFace',  'CBlock',  'CemntBd',  \n",
    "                    'ImStucc', 'MetalSd',  'Other',  'Plywood',  'PreCast',  'Stone',  'Stucco',  \n",
    "                    'Wd Sdng',  'WdShing'],\n",
    "    'MasVnrType': ['None', 'BrkFace', 'Stone', 'BrkCmn'],\n",
    "    'Foundation': ['None', 'PConc', 'CBlock', 'BrkTil', 'Wood', 'Slab', 'Stone'],\n",
    "    'Heating': ['None', 'GasA', 'GasW', 'Grav', 'Wall', 'OthW', 'Floor'],\n",
    "    'CentralAir': ['None', 'Y', 'N'],\n",
    "    'Electrical': ['None', 'SBrkr', 'FuseF', 'FuseA', 'FuseP', 'Mix'],\n",
    "    'GarageType': ['None', 'Attchd', 'Detchd', 'BuiltIn', 'CarPort', 'Basment', '2Types'],\n",
    "    'SaleType': ['None', 'WD','CWD', 'VWD', 'New', 'COD',\n",
    "                'ConLD',  'ConLI',  'ConLw',  'Con',  'Oth'],\n",
    "    'SaleCondition': ['None',  'Normal',  'Abnorml',  'Partial',  'AdjLand',  'Alloca',  'Family'],\n",
    "    \n",
    "    #msclass\n",
    "    'MSSubClass':['None',20,30,40,45,50,60,70,75,80,85, 90,120,150,160,180,190],\n",
    "    #ExterQual\n",
    "    'ExterQual':['None','Po','Fa','TA','Gd','Ex'],\n",
    "    #LotShape\n",
    "    'LotShape':['None','Reg','IR1' ,'IR2','IR3'],\n",
    "    #ExterCond\n",
    "    'ExterCond':['None','Po','Fa','TA','Gd','Ex'],\n",
    "    #BsmtQual\n",
    "    'BsmtQual':['None','Fa','TA','Gd','Ex'],\n",
    "    #BsmtCond\n",
    "    'BsmtCond':['None','Po','Fa','TA','Gd','Ex'],\n",
    "    #BsmtExposure\n",
    "    'BsmtExposure':['None','No','Mn','Av','Gd'],\n",
    "    #BsmtFinType1\n",
    "    'BsmtFinType1':['None','Unf','LwQ', 'Rec','BLQ','ALQ' , 'GLQ' ],\n",
    "    #BsmtFinType2\n",
    "   'BsmtFinType2':['None','Unf','LwQ', 'Rec','BLQ','ALQ' , 'GLQ' ],\n",
    "    #HeatingQC\n",
    "    'HeatingQC':['None','Po','Fa','TA','Gd','Ex'],\n",
    "    #Functional\n",
    "   'Functional':['None','Sev','Maj2','Maj1','Mod','Min2','Min1','Typ'],\n",
    "    #FireplaceQu\n",
    "#     ['None','Po','Fa','TA','Gd','Ex'],\n",
    "    #KitchenQual\n",
    "    'KitchenQual':['None','Fa','TA','Gd','Ex'],\n",
    "    #GarageFinish\n",
    "    'GarageFinish':['None','Unf','RFn','Fin'],\n",
    "    #GarageQual\n",
    "    'GarageQual':['None','Po','Fa','TA','Gd','Ex'],\n",
    "    #GarageCond\n",
    "    'GarageCond':['None','Po','Fa','TA','Gd','Ex'],\n",
    "    #PoolQC\n",
    "    #['None','Fa','Gd','Ex'],\n",
    "    #Fence\n",
    "#     ['None','MnWw','GdWo','MnPrv','GdPrv'] ]\n",
    "    'PavedDrive':['None','N','P',  'Y']\n",
    "}"
   ]
  },
  {
   "cell_type": "code",
   "execution_count": 13,
   "metadata": {},
   "outputs": [],
   "source": [
    "# result={}\n",
    "# for i in col_cat:\n",
    "#     result[i]=['None']\n",
    "#     temp=df_original[i].fiallna().unique()\n",
    "#     for e in temp:\n",
    "#         result[i].append(e)\n",
    "# result"
   ]
  },
  {
   "cell_type": "code",
   "execution_count": 14,
   "metadata": {},
   "outputs": [
    {
     "data": {
      "text/plain": [
       "{'MSSubClass': {'None': 0,\n",
       "  20: 1,\n",
       "  30: 2,\n",
       "  40: 3,\n",
       "  45: 4,\n",
       "  50: 5,\n",
       "  60: 6,\n",
       "  70: 7,\n",
       "  75: 8,\n",
       "  80: 9,\n",
       "  85: 10,\n",
       "  90: 11,\n",
       "  120: 12,\n",
       "  150: 13,\n",
       "  160: 14,\n",
       "  180: 15,\n",
       "  190: 16},\n",
       " 'ExterQual': {'None': 0, 'Po': 1, 'Fa': 2, 'TA': 3, 'Gd': 4, 'Ex': 5},\n",
       " 'LotShape': {'None': 0, 'Reg': 1, 'IR1': 2, 'IR2': 3, 'IR3': 4},\n",
       " 'ExterCond': {'None': 0, 'Po': 1, 'Fa': 2, 'TA': 3, 'Gd': 4, 'Ex': 5},\n",
       " 'BsmtQual': {'None': 0, 'Fa': 1, 'TA': 2, 'Gd': 3, 'Ex': 4},\n",
       " 'BsmtCond': {'None': 0, 'Po': 1, 'Fa': 2, 'TA': 3, 'Gd': 4, 'Ex': 5},\n",
       " 'BsmtExposure': {'None': 0, 'No': 1, 'Mn': 2, 'Av': 3, 'Gd': 4},\n",
       " 'BsmtFinType1': {'None': 0,\n",
       "  'Unf': 1,\n",
       "  'LwQ': 2,\n",
       "  'Rec': 3,\n",
       "  'BLQ': 4,\n",
       "  'ALQ': 5,\n",
       "  'GLQ': 6},\n",
       " 'BsmtFinType2': {'None': 0,\n",
       "  'Unf': 1,\n",
       "  'LwQ': 2,\n",
       "  'Rec': 3,\n",
       "  'BLQ': 4,\n",
       "  'ALQ': 5,\n",
       "  'GLQ': 6},\n",
       " 'HeatingQC': {'None': 0, 'Po': 1, 'Fa': 2, 'TA': 3, 'Gd': 4, 'Ex': 5},\n",
       " 'Functional': {'None': 0,\n",
       "  'Sev': 1,\n",
       "  'Maj2': 2,\n",
       "  'Maj1': 3,\n",
       "  'Mod': 4,\n",
       "  'Min2': 5,\n",
       "  'Min1': 6,\n",
       "  'Typ': 7},\n",
       " 'KitchenQual': {'None': 0, 'Fa': 1, 'TA': 2, 'Gd': 3, 'Ex': 4},\n",
       " 'GarageQual': {'None': 0, 'Po': 1, 'Fa': 2, 'TA': 3, 'Gd': 4, 'Ex': 5},\n",
       " 'GarageFinish': {'None': 0, 'Unf': 1, 'RFn': 2, 'Fin': 3},\n",
       " 'GarageCond': {'None': 0, 'Po': 1, 'Fa': 2, 'TA': 3, 'Gd': 4, 'Ex': 5},\n",
       " 'PavedDrive': {'None': 0, 'N': 1, 'P': 2, 'Y': 3}}"
      ]
     },
     "execution_count": 14,
     "metadata": {},
     "output_type": "execute_result"
    }
   ],
   "source": [
    "orders_encoding_result={}\n",
    "for e in col_order:\n",
    "    temp=cat_values[e]\n",
    "    orders_encoding_result[e]={}\n",
    "    for i in range(len(temp)):\n",
    "        orders_encoding_result[e][temp[i]]=i\n",
    "orders_encoding_result          "
   ]
  },
  {
   "cell_type": "code",
   "execution_count": 15,
   "metadata": {},
   "outputs": [],
   "source": [
    "def ImputerConverter(df,col_num,col_order,col_cat,orders_encoding_result):\n",
    "    df=df.drop(col_drop,axis=1).copy()\n",
    "    df[col_num]=df[col_num].fillna(0)\n",
    "    df[col_order+col_cat]=df[col_order+col_cat].fillna('None')\n",
    "\n",
    "    for i in col_order:\n",
    "        df[i]=df[i].map(orders_encoding_result[i])\n",
    "    return df\n",
    "\n",
    "df_train_IC=ImputerConverter(df_train,col_num,col_order,col_cat,orders_encoding_result)\n",
    "df_dev_IC=ImputerConverter(df_dev,col_num,col_order,col_cat,orders_encoding_result)       "
   ]
  },
  {
   "cell_type": "code",
   "execution_count": 16,
   "metadata": {},
   "outputs": [
    {
     "data": {
      "text/plain": [
       "SalePrice      0.0\n",
       "RoofStyle      0.0\n",
       "Exterior1st    0.0\n",
       "Exterior2nd    0.0\n",
       "MasVnrType     0.0\n",
       "MasVnrArea     0.0\n",
       "ExterQual      0.0\n",
       "ExterCond      0.0\n",
       "Foundation     0.0\n",
       "BsmtQual       0.0\n",
       "dtype: float64"
      ]
     },
     "execution_count": 16,
     "metadata": {},
     "output_type": "execute_result"
    }
   ],
   "source": [
    "(df_train_IC.isnull().sum()/df_train_IC.shape[0]).sort_values(ascending=False)[:10]"
   ]
  },
  {
   "cell_type": "markdown",
   "metadata": {},
   "source": [
    "# Category column need to encode (One hot?)"
   ]
  },
  {
   "cell_type": "markdown",
   "metadata": {},
   "source": [
    "# Pipe line\n",
    "\n",
    "is this needed?\n",
    "\n",
    "https://www.kaggle.com/alexandrasciocchetti/housing-prediction-w-pipeline-ensemble-methods"
   ]
  },
  {
   "cell_type": "code",
   "execution_count": 17,
   "metadata": {},
   "outputs": [],
   "source": [
    "#define transform strategy\n",
    "numerical_transformer = SimpleImputer(missing_values =np.nan,strategy='constant')\n",
    "\n",
    "#categorical columns are encoded during this step\n",
    "categorical_transformer = Pipeline(steps=[\n",
    "    ('imputer', SimpleImputer(strategy='constant')),\n",
    "    ('onehot', OneHotEncoder(handle_unknown='ignore'))\n",
    "])"
   ]
  },
  {
   "cell_type": "code",
   "execution_count": 18,
   "metadata": {},
   "outputs": [],
   "source": [
    "numerical_cols=col_num+col_order\n",
    "categorical_cols=col_cat\n",
    "\n",
    "preprocess = ColumnTransformer(\n",
    "    transformers=[\n",
    "        ('num', numerical_transformer, numerical_cols),\n",
    "        ('cat', categorical_transformer, categorical_cols)\n",
    "    ])\n",
    "\n",
    "def process_and_fit(model, train, target):\n",
    "    pipeline = Pipeline(steps=[('preprocess', preprocess),\n",
    "                   ('scale', StandardScaler()),\n",
    "                   ('model', model)])\n",
    "    pipeline.fit(train, target)\n",
    "    return pipeline\n",
    "\n",
    "def rmse(validation, target):\n",
    "    return np.sqrt(mean_squared_error(validation, target))"
   ]
  },
  {
   "cell_type": "code",
   "execution_count": 19,
   "metadata": {},
   "outputs": [],
   "source": [
    "# preprocess.fit_transform(df_train_IC)"
   ]
  },
  {
   "cell_type": "code",
   "execution_count": 20,
   "metadata": {},
   "outputs": [],
   "source": [
    "def get_feature_names(column_transformer):\n",
    "    \"\"\"Get feature names from all transformers.\n",
    "    Returns\n",
    "    -------\n",
    "    feature_names : list of strings\n",
    "        Names of the features produced by transform.\n",
    "    \"\"\"\n",
    "    # Remove the internal helper function\n",
    "    #check_is_fitted(column_transformer)\n",
    "    \n",
    "    # Turn loopkup into function for better handling with pipeline later\n",
    "    def get_names(trans):\n",
    "        # >> Original get_feature_names() method\n",
    "        if trans == 'drop' or (\n",
    "                hasattr(column, '__len__') and not len(column)):\n",
    "            return []\n",
    "        if trans == 'passthrough':\n",
    "            if hasattr(column_transformer, '_df_columns'):\n",
    "                if ((not isinstance(column, slice))\n",
    "                        and all(isinstance(col, str) for col in column)):\n",
    "                    return column\n",
    "                else:\n",
    "                    return column_transformer._df_columns[column]\n",
    "            else:\n",
    "                indices = np.arange(column_transformer._n_features)\n",
    "                return ['x%d' % i for i in indices[column]]\n",
    "        if not hasattr(trans, 'get_feature_names'):\n",
    "        # >>> Change: Return input column names if no method avaiable\n",
    "            # Turn error into a warning\n",
    "            warnings.warn(\"Transformer %s (type %s) does not \"\n",
    "                                 \"provide get_feature_names. \"\n",
    "                                 \"Will return input column names if available\"\n",
    "                                 % (str(name), type(trans).__name__))\n",
    "            # For transformers without a get_features_names method, use the input\n",
    "            # names to the column transformer\n",
    "            if column is None:\n",
    "                return []\n",
    "            else:\n",
    "                return [name + \"__\" + f for f in column]\n",
    "\n",
    "        return [name + \"__\" + f for f in trans.get_feature_names()]\n",
    "    \n",
    "    ### Start of processing\n",
    "    feature_names = []\n",
    "    \n",
    "    # Allow transformers to be pipelines. Pipeline steps are named differently, so preprocessing is needed\n",
    "    if type(column_transformer) == sklearn.pipeline.Pipeline:\n",
    "        l_transformers = [(name, trans, None, None) for step, name, trans in column_transformer._iter()]\n",
    "    else:\n",
    "        # For column transformers, follow the original method\n",
    "        l_transformers = list(column_transformer._iter(fitted=True))\n",
    "    \n",
    "    \n",
    "    for name, trans, column, _ in l_transformers: \n",
    "        if type(trans) == sklearn.pipeline.Pipeline:\n",
    "            # Recursive call on pipeline\n",
    "            _names = get_feature_names(trans)\n",
    "            # if pipeline has no transformer that returns names\n",
    "            if len(_names)==0:\n",
    "                _names = [name + \"__\" + f for f in column]\n",
    "            feature_names.extend(_names)\n",
    "        else:\n",
    "            feature_names.extend(get_names(trans))\n",
    "    \n",
    "    return feature_names"
   ]
  },
  {
   "cell_type": "code",
   "execution_count": 21,
   "metadata": {},
   "outputs": [],
   "source": [
    "# get_feature_names(preprocess)"
   ]
  },
  {
   "cell_type": "code",
   "execution_count": 22,
   "metadata": {},
   "outputs": [],
   "source": [
    "X_train=df_train_IC[col_num+col_order+col_cat]\n",
    "y_train=df_train_IC[col_target].to_numpy().ravel()\n",
    "\n",
    "X_valid=df_dev_IC[col_num+col_order+col_cat]\n",
    "y_valid=df_dev_IC[col_target].to_numpy().ravel()"
   ]
  },
  {
   "cell_type": "code",
   "execution_count": 26,
   "metadata": {},
   "outputs": [
    {
     "data": {
      "text/plain": [
       "{'Random Forest': 29433.47773171397}"
      ]
     },
     "execution_count": 26,
     "metadata": {},
     "output_type": "execute_result"
    }
   ],
   "source": [
    "randomForest = RandomForestRegressor(n_estimators=1000, random_state=42)\n",
    "\n",
    "\n",
    "#Random Forest\n",
    "rfPipeline = process_and_fit(randomForest, X_train, y_train)\n",
    "rfPred = rfPipeline.predict(X_valid)\n",
    "\n",
    "# models = ['Random Forest'\n",
    "# #           , 'Gradient Boosting', 'Cat Boost', 'XGBoost', 'Lasso Regression', 'Light GBM'\n",
    "#          ]\n",
    "models = {'Random Forest': rfPred\n",
    "#                , gbPred, cbPred, xgbPred, lassoPred, gbmPred\n",
    "          }\n",
    "\n",
    "avg_score = 0\n",
    "\n",
    "result={}\n",
    "for m in models:\n",
    "    score = rmse(y_valid, models[m])\n",
    "    result[m]=score\n",
    "\n",
    "result\n"
   ]
  },
  {
   "cell_type": "code",
   "execution_count": null,
   "metadata": {},
   "outputs": [],
   "source": []
  }
 ],
 "metadata": {
  "kernelspec": {
   "display_name": "MIDS_W207",
   "language": "python",
   "name": "mids_w207"
  },
  "language_info": {
   "codemirror_mode": {
    "name": "ipython",
    "version": 3
   },
   "file_extension": ".py",
   "mimetype": "text/x-python",
   "name": "python",
   "nbconvert_exporter": "python",
   "pygments_lexer": "ipython3",
   "version": "3.6.13"
  }
 },
 "nbformat": 4,
 "nbformat_minor": 4
}
